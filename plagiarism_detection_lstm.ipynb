{
  "nbformat": 4,
  "nbformat_minor": 0,
  "metadata": {
    "colab": {
      "provenance": []
    },
    "kernelspec": {
      "name": "python3",
      "display_name": "Python 3"
    },
    "language_info": {
      "name": "python"
    }
  },
  "cells": [
    {
      "cell_type": "code",
      "execution_count": 1,
      "metadata": {
        "colab": {
          "base_uri": "https://localhost:8080/"
        },
        "id": "0SJBjElxpX18",
        "outputId": "35055312-99de-4bd8-a13a-cbbbedacf493"
      },
      "outputs": [
        {
          "output_type": "stream",
          "name": "stdout",
          "text": [
            "Cloning into 'Plagiarism'...\n",
            "remote: Enumerating objects: 107, done.\u001b[K\n",
            "remote: Counting objects: 100% (107/107), done.\u001b[K\n",
            "remote: Compressing objects: 100% (103/103), done.\u001b[K\n",
            "remote: Total 107 (delta 4), reused 107 (delta 4), pack-reused 0\u001b[K\n",
            "Receiving objects: 100% (107/107), 123.78 KiB | 1.72 MiB/s, done.\n",
            "Resolving deltas: 100% (4/4), done.\n"
          ]
        }
      ],
      "source": [
        "!git clone https://github.com/Jjioo/Plagiarism"
      ]
    },
    {
      "cell_type": "code",
      "source": [
        "%cd ..\n",
        "%pwd"
      ],
      "metadata": {
        "colab": {
          "base_uri": "https://localhost:8080/",
          "height": 54
        },
        "id": "22nQ5l1ipc4i",
        "outputId": "1f879eff-3299-49cd-f036-7a7dd3a3c329"
      },
      "execution_count": 2,
      "outputs": [
        {
          "output_type": "stream",
          "name": "stdout",
          "text": [
            "/\n"
          ]
        },
        {
          "output_type": "execute_result",
          "data": {
            "text/plain": [
              "'/'"
            ],
            "application/vnd.google.colaboratory.intrinsic+json": {
              "type": "string"
            }
          },
          "metadata": {},
          "execution_count": 2
        }
      ]
    },
    {
      "cell_type": "code",
      "source": [
        "import pandas as pd\n",
        "import os\n",
        "# Load information about tasks and categories\n",
        "file_info = pd.read_csv('/content/Plagiarism/file_information.csv')\n",
        "test_info = pd.read_csv('/content/Plagiarism/test_info.csv')\n",
        "\n",
        "# Load text data\n",
        "txt_files = [doc for doc in os.listdir('/content/Plagiarism/txt_data') if doc.endswith('.txt')]\n",
        "txt_content = [open(os.path.join('/content/Plagiarism/txt_data', _file), encoding='utf-8', errors='ignore').read()\n",
        "               for _file in txt_files]\n"
      ],
      "metadata": {
        "id": "woIcjDtFrHNQ"
      },
      "execution_count": 4,
      "outputs": []
    },
    {
      "cell_type": "markdown",
      "source": [
        "**Preprocess Text Data:**\n"
      ],
      "metadata": {
        "id": "aR8IjNecsHqI"
      }
    },
    {
      "cell_type": "code",
      "source": [
        "from tensorflow.keras.preprocessing.text import Tokenizer\n",
        "from tensorflow.keras.preprocessing.sequence import pad_sequences\n",
        "\n",
        "# Tokenize text data\n",
        "tokenizer = Tokenizer()\n",
        "tokenizer.fit_on_texts(txt_content)\n",
        "\n",
        "# Convert text data to sequences\n",
        "sequences = tokenizer.texts_to_sequences(txt_content)\n",
        "\n",
        "# Pad sequences to a fixed length\n",
        "max_seq_length = 100  # Adjust as needed\n",
        "padded_sequences = pad_sequences(sequences, maxlen=max_seq_length, padding='post', truncating='post')\n"
      ],
      "metadata": {
        "id": "ONwWz0rEr7x9"
      },
      "execution_count": 5,
      "outputs": []
    },
    {
      "cell_type": "markdown",
      "source": [
        "**Train, Validation, and Test Sets:**"
      ],
      "metadata": {
        "id": "xJ6ajCFBsYEB"
      }
    },
    {
      "cell_type": "code",
      "source": [
        "from sklearn.model_selection import train_test_split\n",
        "\n",
        "# Assuming 'Category' column in file_info indicates plagiarism\n",
        "labels = (file_info['Category'] == 'non').astype(int)\n",
        "\n",
        "# Split data into train and test sets\n",
        "X_train, X_test, y_train, y_test = train_test_split(padded_sequences, labels, test_size=0.2, random_state=42)"
      ],
      "metadata": {
        "id": "LxeVS51UsQtL"
      },
      "execution_count": 7,
      "outputs": []
    },
    {
      "cell_type": "markdown",
      "source": [
        "**LSTM Model:**"
      ],
      "metadata": {
        "id": "O9Le8sfcs2P6"
      }
    },
    {
      "cell_type": "code",
      "source": [
        "import warnings\n",
        "from keras.models import Sequential\n",
        "from keras.layers import Embedding, LSTM, Dense, Dropout, BatchNormalization\n",
        "from keras.callbacks import LearningRateScheduler, EarlyStopping\n",
        "from sklearn.model_selection import train_test_split\n",
        "\n",
        "# Adjust these parameters as needed\n",
        "embedding_dim = 150\n",
        "vocab_size = len(tokenizer.word_index) + 1\n",
        "lstm_units = 512\n",
        "epochs = 70\n",
        "batch_size = 32\n",
        "\n",
        "# Split data into train and test sets\n",
        "X_train, X_test, y_train, y_test = train_test_split(padded_sequences, labels, test_size=0.2, random_state=42)\n",
        "\n",
        "# Define the LSTM model\n",
        "lstm_model = Sequential()\n",
        "lstm_model.add(Embedding(input_dim=vocab_size, output_dim=embedding_dim, input_length=max_seq_length))\n",
        "lstm_model.add(LSTM(units=lstm_units, return_sequences=True, dropout=0.2, recurrent_dropout=0.2))\n",
        "lstm_model.add(Dropout(0.2))\n",
        "lstm_model.add(LSTM(units=lstm_units, dropout=0.2, recurrent_dropout=0.2))\n",
        "lstm_model.add(Dropout(0.2))\n",
        "lstm_model.add(Dense(1, activation='tanh'))  # Change the activation function to 'relu'\n",
        "lstm_model.add(BatchNormalization())\n",
        "\n",
        "# Compile the model\n",
        "# Compile the model with SGD optimizer\n",
        "lstm_model.compile(optimizer='sgd', loss='binary_crossentropy', metrics=['accuracy'])\n",
        "\n",
        "# Suppress warnings and hide model summary\n",
        "warnings.filterwarnings(\"ignore\")\n",
        "\n",
        "# Learning rate schedule\n",
        "def lr_schedule(epoch):\n",
        "    return 0.00001 * (0.1 ** (epoch // 10))\n",
        "\n",
        "# Early stopping\n",
        "early_stopping = EarlyStopping(monitor='val_loss', patience=3, restore_best_weights=True)\n",
        "\n",
        "# Train the model without displaying model summary and training progress\n",
        "history = lstm_model.fit(X_train, y_train, epochs=epochs, validation_split=0.1, batch_size=batch_size, callbacks=[LearningRateScheduler(lr_schedule), early_stopping], verbose=0)\n",
        "\n",
        "# Display information for the last iteration\n",
        "last_epoch = len(history.history['loss']) - 1\n",
        "print(\"Last Epoch Metrics:\")\n",
        "print(\"Training Loss:\", history.history['loss'][last_epoch])\n",
        "print(\"Validation Loss:\", history.history['val_loss'][last_epoch])\n",
        "\n",
        "# Check if 'accuracy' and 'val_accuracy' are available\n",
        "if 'accuracy' in history.history and 'val_accuracy' in history.history:\n",
        "    print(\"Training Accuracy:\", history.history['accuracy'][last_epoch])\n",
        "    print(\"Validation Accuracy:\", history.history['val_accuracy'][last_epoch])\n",
        "else:\n",
        "    print(\"Training Accuracy and Validation Accuracy not available for this model.\")\n"
      ],
      "metadata": {
        "colab": {
          "base_uri": "https://localhost:8080/"
        },
        "id": "Oc9x3xg8uFql",
        "outputId": "8ff74b1e-a1ac-481e-b800-cd23c20d6bf6"
      },
      "execution_count": 20,
      "outputs": [
        {
          "output_type": "stream",
          "name": "stdout",
          "text": [
            "Last Epoch Metrics:\n",
            "Training Loss: 2.1241419315338135\n",
            "Validation Loss: 1.3456206321716309\n",
            "Training Accuracy: 0.7523148059844971\n",
            "Validation Accuracy: 0.7708333134651184\n"
          ]
        }
      ]
    },
    {
      "cell_type": "markdown",
      "source": [
        "**CNN Model:**\n"
      ],
      "metadata": {
        "id": "cLipsRMRs8Qi"
      }
    },
    {
      "cell_type": "code",
      "source": [
        "import warnings\n",
        "from keras.models import Sequential\n",
        "from keras.layers import Embedding, Conv1D, GlobalMaxPooling1D, Dense\n",
        "from sklearn.model_selection import train_test_split\n",
        "\n",
        "# Assuming you have already defined X_train, y_train, max_seq_length, and tokenizer\n",
        "\n",
        "# Adjust these parameters as needed\n",
        "embedding_dim = 50\n",
        "vocab_size = len(tokenizer.word_index) + 1\n",
        "num_filters = 64\n",
        "filter_size = 3\n",
        "epochs = 20\n",
        "batch_size = 32\n",
        "\n",
        "# Split data into train and test sets\n",
        "X_train, X_test, y_train, y_test = train_test_split(padded_sequences, labels, test_size=0.2, random_state=42)\n",
        "\n",
        "# Define the CNN model\n",
        "cnn_model = Sequential()\n",
        "cnn_model.add(Embedding(input_dim=vocab_size, output_dim=embedding_dim, input_length=max_seq_length))\n",
        "cnn_model.add(Conv1D(filters=num_filters, kernel_size=filter_size, activation='relu'))\n",
        "cnn_model.add(GlobalMaxPooling1D())\n",
        "cnn_model.add(Dense(1, activation='sigmoid'))\n",
        "\n",
        "# Compile the model\n",
        "cnn_model.compile(optimizer='adam', loss='binary_crossentropy', metrics=['accuracy'])\n",
        "\n",
        "# Suppress warnings\n",
        "warnings.filterwarnings(\"ignore\")\n",
        "\n",
        "# Train the model\n",
        "history = cnn_model.fit(X_train, y_train, epochs=epochs, validation_split=0.1, batch_size=batch_size, verbose=0)\n",
        "\n",
        "# Display information for the last iteration\n",
        "last_epoch = epochs - 1\n",
        "print(f\"Last Epoch {last_epoch}/{epochs}\")\n",
        "print(f\"Training Accuracy: {history.history['accuracy'][last_epoch]}\")\n",
        "print(f\"Validation Accuracy: {history.history['val_accuracy'][last_epoch]}\")\n",
        "print(f\"Training Loss: {history.history['loss'][last_epoch]}\")\n",
        "print(f\"Validation Loss: {history.history['val_loss'][last_epoch]}\")\n"
      ],
      "metadata": {
        "colab": {
          "base_uri": "https://localhost:8080/"
        },
        "id": "LVxOp7uDs4yM",
        "outputId": "519662a7-7bf9-4b93-9f1d-5ddfc8b4ba78"
      },
      "execution_count": 15,
      "outputs": [
        {
          "output_type": "stream",
          "name": "stdout",
          "text": [
            "Last Epoch 19/20\n",
            "Training Accuracy: 0.7870370149612427\n",
            "Validation Accuracy: 0.7708333134651184\n",
            "Training Loss: 0.5068798661231995\n",
            "Validation Loss: 0.5057275891304016\n"
          ]
        }
      ]
    },
    {
      "cell_type": "code",
      "source": [
        "# Save LSTM model\n",
        "lstm_model.save('NLP_lstm_model.h5')\n",
        "# Save CNN model\n",
        "cnn_model.save('NLP_cnn_model.h5')"
      ],
      "metadata": {
        "id": "S_NXCuwewTDB"
      },
      "execution_count": 27,
      "outputs": []
    },
    {
      "cell_type": "code",
      "source": [
        "from google.colab import drive\n",
        "drive.mount('/content/drive')\n"
      ],
      "metadata": {
        "colab": {
          "base_uri": "https://localhost:8080/"
        },
        "id": "7rqSzLnRtcgr",
        "outputId": "28a5d2a7-b9db-4c6a-fe4a-17f68fedcddb"
      },
      "execution_count": 28,
      "outputs": [
        {
          "output_type": "stream",
          "name": "stdout",
          "text": [
            "Mounted at /content/drive\n"
          ]
        }
      ]
    },
    {
      "cell_type": "code",
      "source": [
        "!mv NLP_lstm_model.h5 /content/drive/MyDrive/\n",
        "!mv NLP_cnn_model.h5 /content/drive/MyDrive/"
      ],
      "metadata": {
        "id": "26DDkf6GBAUq"
      },
      "execution_count": 29,
      "outputs": []
    },
    {
      "cell_type": "code",
      "source": [
        "from sklearn.metrics import confusion_matrix, roc_curve, auc, precision_recall_curve, f1_score, accuracy_score\n",
        "import matplotlib.pyplot as plt\n",
        "from contextlib import redirect_stdout\n",
        "import io\n",
        "\n",
        "# Create a buffer to redirect stdout\n",
        "stdout_buffer = io.StringIO()\n",
        "\n",
        "# Redirect stdout to the buffer\n",
        "with redirect_stdout(stdout_buffer):\n",
        "    # Make predictions on the test set\n",
        "    y_pred = (lstm_model.predict(X_test) > 0.5).astype(\"int32\")\n",
        "\n",
        "    # Confusion Matrix\n",
        "    conf_matrix = confusion_matrix(y_test, y_pred)\n",
        "\n",
        "    # ROC Curve\n",
        "    fpr, tpr, _ = roc_curve(y_test, lstm_model.predict(X_test))\n",
        "    roc_auc = auc(fpr, tpr)\n",
        "\n",
        "    # Precision-Recall Curve\n",
        "    precision, recall, _ = precision_recall_curve(y_test, lstm_model.predict(X_test))\n",
        "\n",
        "    # Calculate F1 Score and Accuracy\n",
        "    f1 = f1_score(y_test, y_pred)\n",
        "    accuracy = accuracy_score(y_test, y_pred)\n",
        "\n",
        "# Plotting\n",
        "plt.figure(figsize=(16, 5))\n",
        "\n",
        "# Confusion Matrix\n",
        "plt.subplot(1, 3, 1)\n",
        "plt.imshow(conf_matrix, cmap='Blues', interpolation='None')\n",
        "plt.title('Confusion Matrix')\n",
        "plt.colorbar()\n",
        "plt.xlabel('Predicted Label')\n",
        "plt.ylabel('True Label')\n",
        "\n",
        "# ROC Curve\n",
        "plt.subplot(1, 3, 2)\n",
        "plt.plot(fpr, tpr, color='darkorange', lw=2, label='ROC curve (area = {:.2f})'.format(roc_auc))\n",
        "plt.plot([0, 1], [0, 1], color='navy', lw=2, linestyle='--')\n",
        "plt.title('ROC Curve')\n",
        "plt.xlabel('False Positive Rate')\n",
        "plt.ylabel('True Positive Rate')\n",
        "plt.legend(loc=\"lower right\")\n",
        "\n",
        "# Precision-Recall Curve\n",
        "plt.subplot(1, 3, 3)\n",
        "plt.plot(recall, precision, color='green', lw=2, label='Precision-Recall curve')\n",
        "plt.title('Precision-Recall Curve')\n",
        "plt.xlabel('Recall')\n",
        "plt.ylabel('Precision')\n",
        "plt.legend(loc=\"lower right\")\n",
        "\n",
        "# Show metrics\n",
        "plt.tight_layout()\n",
        "plt.show()\n"
      ],
      "metadata": {
        "colab": {
          "base_uri": "https://localhost:8080/",
          "height": 269
        },
        "id": "FHXg1YXEygOX",
        "outputId": "2fa935ab-2c07-4618-be3d-8f5789a723c1"
      },
      "execution_count": 31,
      "outputs": [
        {
          "output_type": "display_data",
          "data": {
            "text/plain": [
              "<Figure size 1600x500 with 4 Axes>"
            ],
            "image/png": "[encoded data removed]"
          },
          "metadata": {}
        }
      ]
    },
    {
      "cell_type": "code",
      "source": [
        "import nltk\n",
        "\n",
        "from nltk.tokenize import word_tokenize\n",
        "from nltk.corpus import stopwords\n",
        "\n",
        "def preprocess_file_content(file_path):\n",
        "    with open(file_path, 'r', encoding='utf-8', errors='ignore') as file:\n",
        "        content = file.read()\n",
        "\n",
        "    # Tokenization and removing stop words (adjust as needed)\n",
        "    tokens = word_tokenize(content)\n",
        "    tokens = [word.lower() for word in tokens if word.isalpha() and word.lower() not in stopwords.words('english')]\n",
        "\n",
        "    # Join tokens back into a string\n",
        "    preprocessed_content = ' '.join(tokens)\n",
        "\n",
        "    return preprocessed_content\n"
      ],
      "metadata": {
        "id": "LkNMi-ALGjxH"
      },
      "execution_count": 41,
      "outputs": []
    },
    {
      "cell_type": "markdown",
      "source": [
        "**Test models :**"
      ],
      "metadata": {
        "id": "nEZfXZd3GrmU"
      }
    },
    {
      "cell_type": "code",
      "source": [
        "# Define the plagiarism threshold\n",
        "plagiarism_threshold = 0.5\n",
        "\n",
        "# Path to your test file\n",
        "test_file_path = '/content/test.txt'\n",
        "\n",
        "# Preprocess the content of the test file\n",
        "test_file_content = preprocess_file_content(test_file_path)\n",
        "\n",
        "# Convert the preprocessed content to sequences and pad\n",
        "test_sequence = tokenizer.texts_to_sequences([test_file_content])\n",
        "padded_sequence = pad_sequences(test_sequence, maxlen=max_seq_length, padding='post')\n",
        "\n",
        "# Make predictions with LSTM model\n",
        "lstm_prediction = lstm_model.predict(padded_sequence)\n",
        "\n",
        "# Make predictions with CNN model\n",
        "cnn_prediction = cnn_model.predict(padded_sequence)\n",
        "\n",
        "# Determine plagiarism status based on the threshold\n",
        "lstm_result = \"Plagiarism\" if lstm_prediction > plagiarism_threshold else \"Not Plagiarism\"\n",
        "cnn_result = \"Plagiarism\" if cnn_prediction > plagiarism_threshold else \"Not Plagiarism\"\n",
        "\n",
        "# Print the results\n",
        "print(\"LSTM Model Prediction:\", lstm_result)\n",
        "print(\"CNN Model Prediction:\", cnn_result)\n"
      ],
      "metadata": {
        "colab": {
          "base_uri": "https://localhost:8080/"
        },
        "id": "sZIDg0t9GomH",
        "outputId": "77572f65-5ee0-415e-be94-af422f73985f"
      },
      "execution_count": 47,
      "outputs": [
        {
          "output_type": "stream",
          "name": "stdout",
          "text": [
            "1/1 [==============================] - 1s 1s/step\n",
            "1/1 [==============================] - 0s 131ms/step\n",
            "LSTM Model Prediction: Not Plagiarism\n",
            "CNN Model Prediction: Not Plagiarism\n"
          ]
        }
      ]
    },
    {
      "cell_type": "code",
      "source": [],
      "metadata": {
        "id": "3J6-J091NoGB"
      },
      "execution_count": null,
      "outputs": []
    }
  ]
}